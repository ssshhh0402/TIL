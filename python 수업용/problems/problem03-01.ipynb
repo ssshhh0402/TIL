{
 "cells": [
  {
   "cell_type": "markdown",
   "metadata": {},
   "source": [
    "# 버거지수\n",
    "> 한 도시의 발전 수준은 `(버거킹의 개수 + 맥도날드의 개수 + KFC의 개수) / 롯데리아의 개수` 로 나타낼 수 있다고 한다.\n",
    ">\n",
    "> locationA 에 있는 딕셔너리를 인자로 받아 버거지수를 계산하는 함수를 만들고 호출하시오."
   ]
  },
  {
   "cell_type": "code",
   "execution_count": 6,
   "metadata": {},
   "outputs": [
    {
     "name": "stdout",
     "output_type": "stream",
     "text": [
      "2.3333333333333335\n"
     ]
    }
   ],
   "source": [
    "locationA = {\n",
    "    'king': 2,\n",
    "    'mc': 4,\n",
    "    'kfc': 1,\n",
    "    'ria': 3\n",
    "}\n",
    "\n",
    "# 아래에 코드를 작성하세요.\n",
    "def bugger(king, mc, kfc, ria):\n",
    "    return float((king + mc + kfc) / ria)\n",
    "\n",
    "a = bugger(**locationA)\n",
    "print(a)"
   ]
  },
  {
   "cell_type": "code",
   "execution_count": null,
   "metadata": {},
   "outputs": [],
   "source": [
    "der burger22(king, mc, kfc, ria):\n",
    "    return (king + mc + kfc) / ria\n",
    "\n",
    "a = bugger22(**locationA)"
   ]
  },
  {
   "cell_type": "code",
   "execution_count": null,
   "metadata": {},
   "outputs": [],
   "source": [
    "def burger33(**location):\n",
    "    return location['king'] + location['mc'] + location['kfc'] / location['ria']"
   ]
  },
  {
   "cell_type": "markdown",
   "metadata": {},
   "source": [
    "# 종합소득세 계산하기\n",
    "> A라는 나라에서 종합소득세는 과세표준 금액 구간에 따라 다른 세율이 적용됩니다.\n",
    "\n",
    "|과세표준액|세율|\n",
    "|-------|---|\n",
    "|1,200이하|6%|\n",
    "|1,200 ~ 4,600|15%|\n",
    "|4,600 ~ |35%|\n",
    "\n",
    "```\n",
    "즉, 1,300원을 벌었을 경우 1,200\\*0.06 + 100\\*0.15를 계산한 결과가 납부해야 하는 세액입니다.\n",
    "\n",
    "함수 tax를 만들고 납부해야하는 세금의 결과를 반환하는 함수를 만들어보세요.\n",
    "```"
   ]
  },
  {
   "cell_type": "code",
   "execution_count": 13,
   "metadata": {},
   "outputs": [
    {
     "name": "stdout",
     "output_type": "stream",
     "text": [
      "1000가 내야 하는 세금은 60원 입니다.\n",
      "3500가 내야 하는 세금은 417원 입니다.\n",
      "5000가 내야 하는 세금은 722원 입니다.\n"
     ]
    }
   ],
   "source": [
    "# 아래에 코드를 작성하세요\n",
    "def tax(money):\n",
    "    if money <= 1200:\n",
    "        print(f\"{money}가 내야 하는 세금은 {int(money * 0.06)}원 입니다.\")\n",
    "    elif money in range(1200, 4600):\n",
    "        print(f\"{money}가 내야 하는 세금은 {int(1200 * 0.06 + (money-1200)* 0.15)}원 입니다.\") \n",
    "    else:\n",
    "        print(f\"{money}가 내야 하는 세금은 {int(1200 * 0.06 + 3400 * 0.15 + (money-4600) * 0.35)}원 입니다.\")\n",
    "        \n",
    "tax(1000)\n",
    "tax(3500)\n",
    "tax(5000)\n",
    "\n",
    "    "
   ]
  },
  {
   "cell_type": "markdown",
   "metadata": {},
   "source": [
    "# 텔레그램 챗봇\n",
    "\n",
    "> 텔레그램 메신져를 이용하여 챗봇을 개발하려고한다.\n",
    ">\n",
    "> api를 사용하기 위해 공식문서를 찾아보니 `https://api.telegram.org/bot<token>/METHOD_NAME`와 같은 경로로 \n",
    ">\n",
    "> token과 사용할 method의 이름을 넣어서 요청으로 보내라고 한다.\n",
    ">\n",
    "> 사용자에게 토큰과 사용할 메소드 이름을 받아 url을 만들어주는 함수를 만들어보시오.\n",
    ">\n",
    "> 개발자가 발급받은 토큰은 길이가 41자 라는 규칙을 따른다. 사용자가 잘못된 토큰을 넣었다면 '403'을 반환하시오\n",
    "\n",
    "```\n",
    "예시)\n",
    "https://api.telegram.org/bot123456:ABC-DEF1234ghIkl-zyx57W2v1u123ew11/getMe\n",
    "```"
   ]
  },
  {
   "cell_type": "code",
   "execution_count": 19,
   "metadata": {},
   "outputs": [
    {
     "name": "stdout",
     "output_type": "stream",
     "text": [
      "403\n",
      "https://api.telegram.org/bot<123456:ABC-DEF1234ghIkl-zyx57W2v1u123ew11>/getMe\n"
     ]
    }
   ],
   "source": [
    "# 아래에 코드를 작성하세요\n",
    "\n",
    "def tele(a, b):\n",
    "    if len(a) != 41:\n",
    "        return '403'\n",
    "    else:\n",
    "        return  f'https://api.telegram.org/bot<{a}>/{b}'\n",
    "   \n",
    "print(tele('123123:afjio;wef', 'getMe'))\n",
    "print(tele('123456:ABC-DEF1234ghIkl-zyx57W2v1u123ew11', 'getMe'))\n"
   ]
  },
  {
   "cell_type": "markdown",
   "metadata": {},
   "source": [
    "# 솔로 천국\n",
    "> 리스트가 주어집니다. 리스트의 각 요소는 숫자 0부터 9까지로 이루어져 있습니다.\n",
    "> \n",
    "> 이때, 리스트에서 연속적으로 나타나는 숫자는 하나만 남기고 전부 제거하려고 합니다.\n",
    "> \n",
    "> 리스트에서 연속적으로 나타나는 숫자는 제거하고 남은 수들을 반환하는 lonely 함수를 작성해 주세요.\n",
    "> \n",
    "> 단, 제거된 후 남은 수들을 반환할 때는 리스트의 요소들의 순서를 유지해야 합니다.\n",
    "\n",
    "```\n",
    "예시)\n",
    "\n",
    "lonely([1, 1, 3, 3, 0, 1, 1]) #=> [1, 3, 0, 1]\n",
    "lonely([4,4,4,3,3]) #=> [4,3]\n",
    "```"
   ]
  },
  {
   "cell_type": "code",
   "execution_count": 25,
   "metadata": {
    "scrolled": true
   },
   "outputs": [
    {
     "name": "stdout",
     "output_type": "stream",
     "text": [
      "lonely([1, 1, 3, 3, 0, 1, 1]) #=> [1, 3, 0, 1]\n",
      "lonely([4,4,4,3,3]) #=> [4, 3]\n"
     ]
    }
   ],
   "source": [
    "# 여기에 코드를 작성하세요\n",
    "\n",
    "def lonely(a):\n",
    "    b = []\n",
    "    for i in range(0, len(a)):\n",
    "        if i == 0 or a[i] != a[i-1]:\n",
    "            b.append(a[i])\n",
    "        \n",
    "    return b\n",
    "\n",
    "print(f'lonely([1, 1, 3, 3, 0, 1, 1]) #=> {lonely([1, 1, 3, 3, 0, 1, 1])}')\n",
    "print(f'lonely([4,4,4,3,3]) #=> {lonely([4,4,4,3,3])}')"
   ]
  },
  {
   "cell_type": "code",
   "execution_count": null,
   "metadata": {},
   "outputs": [],
   "source": [
    "def lonely(numbers):\n",
    "    result = []\n",
    "    #처음 값(result[0])은 아예 for문 밖에서 선언하거나 혹은 for문안엔서 조건문으로 넣기\n",
    "    \n",
    "    #하나씩 확인하면서\n",
    "        # 만약에 result의 마지막 원소와 지금 숫자가 동일하지 않다면 빈통 넣기\n",
    "    for idx, number in enumerate(numbers):\n",
    "        if idx == 0 or result[-1] != number:\n",
    "            result.append(number)\n",
    "    #result 반환\n",
    "    return result\n"
   ]
  }
 ],
 "metadata": {
  "kernelspec": {
   "display_name": "Python 3",
   "language": "python",
   "name": "python3"
  },
  "toc": {
   "base_numbering": 1,
   "nav_menu": {},
   "number_sections": true,
   "sideBar": true,
   "skip_h1_title": false,
   "title_cell": "Table of Contents",
   "title_sidebar": "Contents",
   "toc_cell": false,
   "toc_position": {},
   "toc_section_display": true,
   "toc_window_display": false
  }
 },
 "nbformat": 4,
 "nbformat_minor": 2
}
